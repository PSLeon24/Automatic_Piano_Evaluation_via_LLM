{
 "cells": [
  {
   "cell_type": "code",
   "execution_count": null,
   "id": "e4aaa073",
   "metadata": {},
   "outputs": [],
   "source": [
    "import openai\n",
    "\n",
    "# LLM API 설정\n",
    "openai.api_key = \"your-api-key\"\n",
    "\n",
    "# 데이터 입력\n",
    "target_data = {\n",
    "    \"notes\": [\"C4\", \"E4\", \"G4\", \"A4\"],\n",
    "    \"dynamics\": [80, 90, 100, 70],\n",
    "    \"pedal\": [127, 0, 127, 0]\n",
    "}\n",
    "\n",
    "performance_data = {\n",
    "    \"notes\": [\"C4\", \"E4\", \"G4\", \"F4\"],\n",
    "    \"dynamics\": [75, 88, 95, 65],\n",
    "    \"pedal\": [120, 10, 125, 5]\n",
    "}\n",
    "\n",
    "# 프롬프트 생성\n",
    "prompt = f\"\"\"\n",
    "You are an expert system for evaluating piano performances. Analyze the performance data against the target sheet music and provide the following scores:\n",
    "1. Note Accuracy: How accurately the performed notes match the target notes, considering time alignment and overlap.\n",
    "2. Dynamic Similarity: How closely the performed dynamics (e.g., loudness, articulation) resemble the target dynamics.\n",
    "3. Pedaling Accuracy: How accurately the pedal usage aligns with the target pedal markings.\n",
    "\n",
    "Input:\n",
    "- Target Sheet Music Data:\n",
    "  - Notes: {target_data[\"notes\"]}\n",
    "  - Dynamics: {target_data[\"dynamics\"]}\n",
    "  - Pedal: {target_data[\"pedal\"]}\n",
    "- Performance Data:\n",
    "  - Notes: {performance_data[\"notes\"]}\n",
    "  - Dynamics: {performance_data[\"dynamics\"]}\n",
    "  - Pedal: {performance_data[\"pedal\"]}\n",
    "\n",
    "Output:\n",
    "Provide scores for the following:\n",
    "1. Note Accuracy: (Percentage, reasoning)\n",
    "2. Dynamic Similarity: (Percentage, reasoning)\n",
    "3. Pedaling Accuracy: (Percentage, reasoning)\n",
    "Include overall comments on the performance and areas for improvement.\n",
    "\"\"\"\n",
    "\n",
    "# API 호출\n",
    "response = openai.Completion.create(\n",
    "    engine=\"text-davinci-003\",\n",
    "    prompt=prompt,\n",
    "    max_tokens=500\n",
    ")\n",
    "\n",
    "# 결과 출력\n",
    "print(response.choices[0].text.strip())\n"
   ]
  }
 ],
 "metadata": {
  "kernelspec": {
   "display_name": "deepfake",
   "language": "python",
   "name": "deepfake"
  },
  "language_info": {
   "codemirror_mode": {
    "name": "ipython",
    "version": 3
   },
   "file_extension": ".py",
   "mimetype": "text/x-python",
   "name": "python",
   "nbconvert_exporter": "python",
   "pygments_lexer": "ipython3",
   "version": "3.10.14"
  }
 },
 "nbformat": 4,
 "nbformat_minor": 5
}
